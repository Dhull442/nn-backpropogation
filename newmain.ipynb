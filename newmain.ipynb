{
 "cells": [
  {
   "cell_type": "code",
   "execution_count": null,
   "metadata": {},
   "outputs": [],
   "source": [
    "import numpy as np\n",
    "from numpy import array\n",
    "import random\n",
    "# import csv\n",
    "import math\n",
    "TRAIN_FILE=\"mnist_train.csv\"\n",
    "TEST_FILE=\"mnist_test.csv\"\n",
    "num_layers=2\n",
    "num_itr=10\n",
    "neuron_num=784;\n",
    "hidden_layer_neuron = 100;\n",
    "result_class=10;\n",
    "step = 0.5;\n",
    "bias=0;\n",
    "model_file=\"model.csv\""
   ]
  },
  {
   "cell_type": "code",
   "execution_count": 2,
   "metadata": {},
   "outputs": [
    {
     "data": {
      "text/plain": [
       "1"
      ]
     },
     "execution_count": 2,
     "metadata": {},
     "output_type": "execute_result"
    }
   ],
   "source": [
    "train_data = np.genfromtxt((TRAIN_FILE), delimiter=',');1"
   ]
  },
  {
   "cell_type": "code",
   "execution_count": 5,
   "metadata": {},
   "outputs": [],
   "source": [
    "def filldefault(file,layers):\n",
    "    with open(file,'w') as f:\n",
    "        for layernum in range(0,layers):\n",
    "            for i in range(0,neuron_num*hidden_layer_neuron):\n",
    "                f.write(str(random.uniform(0,1))+\"\\t\");\n",
    "            f.write('\\n');\n",
    "        f.close()"
   ]
  },
  {
   "cell_type": "code",
   "execution_count": null,
   "metadata": {},
   "outputs": [],
   "source": [
    "def activation_function(value):  #implement sigmoid for better results\n",
    "    return 1/(1+math.exp(-(1e-3)*value))"
   ]
  },
  {
   "cell_type": "code",
   "execution_count": null,
   "metadata": {},
   "outputs": [],
   "source": [
    "def derivative(value):\n",
    "    return (1-value)*value*(1e-3);"
   ]
  },
  {
   "cell_type": "code",
   "execution_count": null,
   "metadata": {},
   "outputs": [],
   "source": [
    "def front_prop(inputs,model,layers):\n",
    "    input_vals = inputs\n",
    "    output_vals = np.array([input_vals])\n",
    "    for layer in range(0,layers):\n",
    "#         print(layer)\n",
    "        input_n = len(input_vals)  # number of inputs of this layer\n",
    "        if(layer == layers - 1):\n",
    "            output_n = result_class;\n",
    "        else:\n",
    "            output_n = hidden_layer_neuron;\n",
    "        outputs = np.zeros(output_n) # outputs of this particular layer\n",
    "        for i in range(0,output_n):\n",
    "            start = i*input_n;\n",
    "            end = (i+1)*input_n;\n",
    "            weights = model[layer,start:end];\n",
    "            net = np.sum(np.multiply(input_vals,weights)) + bias;\n",
    "            outputs[i] = activation_function(net);\n",
    "        if(layer < layers -1):\n",
    "            output_vals = np.vstack([output_vals,np.array([outputs])]);\n",
    "        input_vals = outputs;\n",
    "    return (output_vals,outputs); # giving it as tup as final output will have less size and will cause problems."
   ]
  },
  {
   "cell_type": "code",
   "execution_count": null,
   "metadata": {},
   "outputs": [],
   "source": [
    "def derivative(value):\n",
    "    return (1-value)*value*(1e-3);"
   ]
  }
 ],
 "metadata": {
  "kernelspec": {
   "display_name": "Python 3",
   "language": "python",
   "name": "python3"
  },
  "language_info": {
   "codemirror_mode": {
    "name": "ipython",
    "version": 3
   },
   "file_extension": ".py",
   "mimetype": "text/x-python",
   "name": "python",
   "nbconvert_exporter": "python",
   "pygments_lexer": "ipython3",
   "version": "3.5.2"
  }
 },
 "nbformat": 4,
 "nbformat_minor": 2
}
