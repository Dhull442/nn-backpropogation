{
 "cells": [
  {
   "cell_type": "code",
   "execution_count": null,
   "metadata": {},
   "outputs": [],
   "source": [
    "import numpy as np\n",
    "from numpy import array\n",
    "import random\n",
    "import math\n",
    "TRAIN_FILE=\"mnist_train.csv\"\n",
    "TEST_FILE=\"mnist_test.csv\"\n",
    "num_layers=3                         # number of layers, including one output layer\n",
    "num_itr=500                          # number of iterations of the whole data\n",
    "input_num=784\n",
    "hidden_layer_neuron = 100            # number of neurons in hidden layers\n",
    "result_class=10                      # number of output neurons at end\n",
    "step = 0.1                           # learning rate\n",
    "bias=0                               # bias is zero for all values\n",
    "lmbda = 1                            # lambda for sigmoid fn\n",
    "model_file=\"model.csv\""
   ]
  },
  {
   "cell_type": "code",
   "execution_count": null,
   "metadata": {},
   "outputs": [],
   "source": [
    "def filldefault(file):\n",
    "    with open(file,'w') as f:\n",
    "        for layernum in range(0,num_layers):\n",
    "            for i in range(0,input_num*hidden_layer_neuron):\n",
    "                f.write(str(random.uniform(-1,1))+\"\\t\");\n",
    "            f.write('\\n');\n",
    "        f.close()"
   ]
  },
  {
   "cell_type": "code",
   "execution_count": null,
   "metadata": {},
   "outputs": [],
   "source": [
    "def activation_function(value):\n",
    "    return 1/(1+math.exp(-lmbda*value))"
   ]
  },
  {
   "cell_type": "code",
   "execution_count": null,
   "metadata": {},
   "outputs": [],
   "source": [
    "def derivative(value):\n",
    "    return (1-value)*value*lmbda;"
   ]
  },
  {
   "cell_type": "code",
   "execution_count": null,
   "metadata": {},
   "outputs": [],
   "source": [
    "def front_prop(inputs,model):\n",
    "    input_vals = inputs\n",
    "    output_vals = np.array([])\n",
    "    f = np.vectorize(activation_function, otypes=[np.float])\n",
    "    for layer in range(0,num_layers):\n",
    "        input_n = len(input_vals)                          # number of inputs of this layer\n",
    "        if(layer == num_layers - 1):\n",
    "            output_n = result_class;\n",
    "        else:\n",
    "            output_n = hidden_layer_neuron;\n",
    "        layerweights = model[layer,:input_n*output_n].reshape(output_n,input_n);\n",
    "        mult = np.dot(layerweights,input_vals) + bias;\n",
    "        outputs = f(mult)\n",
    "        output_vals = np.append(output_vals,outputs);\n",
    "        input_vals = outputs;\n",
    "    return (output_vals);                                   # giving output as appended array"
   ]
  },
  {
   "cell_type": "code",
   "execution_count": null,
   "metadata": {},
   "outputs": [],
   "source": [
    "def delta(inputs,outputs,targets,model):\n",
    "    deltas =np.empty([num_layers,len(model[0])]);           # make a copy for structure\n",
    "    this_out = outputs[-result_class:]\n",
    "    hidden_out = outputs[:-(result_class)].reshape(num_layers-1,hidden_layer_neuron) # layer * out form\n",
    "    prev_layer = np.subtract(this_out,targets)              # for last layer!\n",
    "    vderivative = np.vectorize(derivative)\n",
    "    for i in range(0,num_layers):\n",
    "        output_n = len(this_out)\n",
    "        if(i==num_layers-1):\n",
    "            prev_out = inputs\n",
    "        else:\n",
    "            prev_out = hidden_out[-(i+1)]\n",
    "        input_n = len(prev_out)\n",
    "        lmodel = model[-(i+1),:input_n*output_n].reshape(output_n,input_n)\n",
    "        v = np.multiply(prev_layer,vderivative(this_out))  # contains (all fwd outputs reqd)*(deriv of output of this layer)\n",
    "        tmpdel = np.outer(v,prev_out);                     # output_n * input_n array === deltas for this layer\n",
    "        prev_layer = np.dot(lmodel.T,v);\n",
    "        this_out = prev_out;\n",
    "        deltas[-(i+1),:input_n*output_n] = tmpdel.flatten()\n",
    "    return deltas;"
   ]
  },
  {
   "cell_type": "code",
   "execution_count": null,
   "metadata": {},
   "outputs": [],
   "source": [
    "def back_prop(inputs,outputs,model,target):\n",
    "    targets = np.zeros(result_class);\n",
    "    targets[int(target)] = 1;\n",
    "    deltas = delta(inputs,outputs,targets,model);\n",
    "    return np.subtract(model,step*deltas);"
   ]
  },
  {
   "cell_type": "code",
   "execution_count": null,
   "metadata": {},
   "outputs": [],
   "source": [
    "def write_back(file,value):\n",
    "    with open(file,'w') as f:\n",
    "        for i in range(0,len(value)):\n",
    "            for j in range(0,len(value[i]) - 1):\n",
    "                f.write(str(value[i,j])+\"\\t\")\n",
    "            f.write(str(value[i,-1])+\"\\n\")\n",
    "        f.close();"
   ]
  },
  {
   "cell_type": "code",
   "execution_count": null,
   "metadata": {},
   "outputs": [],
   "source": [
    "def loss_fn(output,target):\n",
    "    return 0.5*np.sum(np.power(np.subtract(output,target),2));"
   ]
  },
  {
   "cell_type": "code",
   "execution_count": null,
   "metadata": {},
   "outputs": [],
   "source": [
    "def loss(outputs,target):\n",
    "    targets = np.zeros(len(outputs));\n",
    "    targets[int(target)] = 1;\n",
    "    return loss_fn(outputs,targets);"
   ]
  },
  {
   "cell_type": "code",
   "execution_count": null,
   "metadata": {},
   "outputs": [],
   "source": [
    "def out(outputs):\n",
    "    return np.where(outputs==outputs.max())[0][0]"
   ]
  },
  {
   "cell_type": "code",
   "execution_count": null,
   "metadata": {},
   "outputs": [],
   "source": [
    "def train(model_param):\n",
    "    itr = num_itr\n",
    "    inputs = train_data[:,1:]/255.0;\n",
    "    train_values = train_data[:,0]\n",
    "    while(itr > 0):\n",
    "        print('Iteration '+str(num_itr-itr + 1))\n",
    "        for i in range(0,len(train_data)):\n",
    "            outputs = front_prop(inputs[i],model_param)\n",
    "            error = loss(outputs[-result_class:],train_values[i])\n",
    "            print('ITR ' +str(num_itr-itr + 1) + ', Sample '+str(i)+' :- Error: '+str(error))\n",
    "            model_param = back_prop(inputs[i],outputs,model_param,train_values[i])\n",
    "        write_back('iteration'+str(num_itr-itr + 1)+'.csv',model_param)\n",
    "        itr = itr - 1 \n",
    "    print('Writing trained model to file!')"
   ]
  },
  {
   "cell_type": "code",
   "execution_count": null,
   "metadata": {},
   "outputs": [],
   "source": [
    "filldefault(model_file)"
   ]
  },
  {
   "cell_type": "code",
   "execution_count": null,
   "metadata": {},
   "outputs": [],
   "source": [
    "model = np.loadtxt(model_file)"
   ]
  },
  {
   "cell_type": "code",
   "execution_count": null,
   "metadata": {},
   "outputs": [],
   "source": [
    "train_data = np.genfromtxt((TRAIN_FILE), delimiter=',');"
   ]
  },
  {
   "cell_type": "code",
   "execution_count": null,
   "metadata": {
    "scrolled": true
   },
   "outputs": [],
   "source": [
    "train(model)"
   ]
  },
  {
   "cell_type": "code",
   "execution_count": null,
   "metadata": {},
   "outputs": [],
   "source": []
  }
 ],
 "metadata": {
  "kernelspec": {
   "display_name": "Python 3",
   "language": "python",
   "name": "python3"
  },
  "language_info": {
   "codemirror_mode": {
    "name": "ipython",
    "version": 2
   },
   "file_extension": ".py",
   "mimetype": "text/x-python",
   "name": "python",
   "nbconvert_exporter": "python",
   "pygments_lexer": "ipython2",
   "version": "2.7.16"
  }
 },
 "nbformat": 4,
 "nbformat_minor": 2
}
